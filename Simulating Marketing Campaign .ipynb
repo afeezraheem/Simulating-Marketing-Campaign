{
 "cells": [
  {
   "cell_type": "code",
   "execution_count": 3,
   "metadata": {},
   "outputs": [],
   "source": [
    "# Set up functions to return the campaign results\n",
    "# Import libraries\n",
    "import numpy as np\n",
    "import pandas as pd\n",
    "import random\n",
    "import matplotlib.pyplot as plt\n",
    "import seaborn as sns"
   ]
  },
  {
   "cell_type": "code",
   "execution_count": 4,
   "metadata": {},
   "outputs": [],
   "source": [
    "#First, we'll write the function for running our marketing campaign\n",
    "\n",
    "# Here, we're trying to measure the outcome of whether or not the potential customer signed up, or converted\n",
    "\n",
    "# Given this, we can use a binomial distribution to model our campaign\n",
    "# We can divide our spend (budget) by our CPM (cost per 1000 impressions- i.e ad load)\n",
    "# to determine the number of trials for our campaign. \n",
    "\n",
    "# The conversion rate is simply the probability of success\n",
    "\n",
    "# Function for calculating the results of a marketing campaign\n",
    "\n",
    "def run_campaign(spend, cpm, conversion_rate):\n",
    "    return np.random.binomial(spend/cpm*1000, conversion_rate)"
   ]
  },
  {
   "cell_type": "code",
   "execution_count": 5,
   "metadata": {},
   "outputs": [],
   "source": [
    "# Next, we can model our conversion rate (the probability of success). \n",
    "# Here we'll just use a normal distribution, with a floor of ~0 since\n",
    "\n",
    "# it's not possible to have a negative conversion rate\n",
    "\n",
    "def get_conversion_rate(expected, stdev):\n",
    "    conversion_rate = max(expected + np.random.normal()*stdev, \n",
    "                          0.000001)\n",
    "    return conversion_rate"
   ]
  },
  {
   "cell_type": "code",
   "execution_count": 6,
   "metadata": {},
   "outputs": [],
   "source": [
    "# Next, we'll set up some marketing campaign inputs:\n",
    "# Budget\n",
    "\n",
    "spend = 50000\n",
    "\n",
    "# Cost per thousand impressions\n",
    "cpm = 2\n",
    "\n",
    "# Expected conversion rate, variance\n",
    "\n",
    "conversion_rate_expected = 0.00005 # per impression, not click\n",
    "\n",
    "conversion_rate_stdev = 0.00002 "
   ]
  },
  {
   "cell_type": "code",
   "execution_count": 15,
   "metadata": {},
   "outputs": [
    {
     "data": {
      "text/plain": [
       "9.016852744707123e-05"
      ]
     },
     "execution_count": 15,
     "metadata": {},
     "output_type": "execute_result"
    }
   ],
   "source": [
    "# Feed the variables into our function\n",
    "\n",
    "# Conversion rate\n",
    "\n",
    "conversion_rate = get_conversion_rate(conversion_rate_expected, conversion_rate_stdev)\n",
    "conversion_rate"
   ]
  },
  {
   "cell_type": "code",
   "execution_count": 13,
   "metadata": {},
   "outputs": [
    {
     "data": {
      "text/plain": [
       "1483"
      ]
     },
     "execution_count": 13,
     "metadata": {},
     "output_type": "execute_result"
    }
   ],
   "source": [
    "# The number of customers we gained\n",
    "cohort_size = run_campaign(spend, cpm, conversion_rate)\n",
    "cohort_size"
   ]
  },
  {
   "cell_type": "code",
   "execution_count": 16,
   "metadata": {},
   "outputs": [
    {
     "name": "stdout",
     "output_type": "stream",
     "text": [
      "CAC:  33\n"
     ]
    }
   ],
   "source": [
    "# Customer acquisition cost (total spend / # of customers gained)\n",
    "CAC = spend/cohort_size\n",
    "print('CAC: ', int(CAC))"
   ]
  },
  {
   "cell_type": "code",
   "execution_count": 10,
   "metadata": {},
   "outputs": [
    {
     "name": "stdout",
     "output_type": "stream",
     "text": [
      "Customers Gained:  1449\n"
     ]
    }
   ],
   "source": [
    "# Print the results\n",
    "print('Customers Gained: ', cohort_size)"
   ]
  },
  {
   "cell_type": "code",
   "execution_count": 23,
   "metadata": {},
   "outputs": [],
   "source": [
    "# Since we introduced two layers of randomness (our \n",
    "# binomial and normal distributions) we would expect to see different values each time.\n",
    "\n",
    "# Next, we can define a function to model how a cohort progresses \n",
    "# over time, in order to calculate the estimated lifetime value of\n",
    "# a customer\n",
    "def simulate_cohort(cohort_size, churn_rate, transactions, price, \n",
    "                    retention_cost, yrs=5):\n",
    "    customers_left = []\n",
    "    spending = []\n",
    "    profit = []\n",
    "    for i in range(yrs):\n",
    "        for customer in range(cohort_size):\n",
    "            # Assume we're running annual plans and cancellations happen at the start of the year \n",
    "            # (for simplicity)\n",
    "            churn_random_num = np.random.random()\n",
    "            # Generate a random number between 0 and 1, if less \n",
    "            # than churn_rate then customer has churned and we \n",
    "            # subtract 1 from cohort_size\n",
    "            if churn_random_num <= churn_rate:\n",
    "                cohort_size += -1  \n",
    "                \n",
    "# Calculate and record cohort's data\n",
    "        customers_left.append(cohort_size)\n",
    "        profit.append(cohort_size*(transactions*price -\\\n",
    "                                   retention_cost))\n",
    "    return customers_left, spending, profit"
   ]
  },
  {
   "cell_type": "code",
   "execution_count": 24,
   "metadata": {},
   "outputs": [],
   "source": [
    "# Gather cohort related inputs:\n",
    "\n",
    "# Annual % of customers that don't renew their subscription\n",
    "churn_rate = 0.20 \n",
    "\n",
    "# Number of annual transactions per average cohort member\n",
    "transactions = 1\n",
    "\n",
    "# Price of goods sold per average transaction\n",
    "price = 90\n",
    "\n",
    "# Annual cost of retaining/servicing customer\n",
    "retention_cost = 20\n",
    "\n",
    "# Feed the inputs into our function\n",
    "customers_left, spending, profit =\\\n",
    "    simulate_cohort(cohort_size, churn_rate, transactions, \n",
    "                    price, retention_cost, yrs=5)"
   ]
  },
  {
   "cell_type": "code",
   "execution_count": 25,
   "metadata": {},
   "outputs": [],
   "source": [
    "# Convert our profit into present value cash flows\n",
    "def present_value(cashflows, rate):\n",
    "    pvs = []\n",
    "    for i, val in enumerate(cashflows):\n",
    "        pvs.append(val/(1 + rate)**(i+1))\n",
    "    return pvs   "
   ]
  },
  {
   "cell_type": "code",
   "execution_count": 27,
   "metadata": {},
   "outputs": [
    {
     "name": "stdout",
     "output_type": "stream",
     "text": [
      "Total Cohort Value:  237532\n",
      "CLTV:  160\n",
      "CLTV-CAC Spread:  126\n"
     ]
    }
   ],
   "source": [
    "# Calculate the customer lifetime value\n",
    "# Discount rate\n",
    "rate = 0.07\n",
    "\n",
    "# Get the PV of the profits\n",
    "pvs = present_value(profit, rate)\n",
    "# Value of the cohort in today's dollars is sum of PVs\n",
    "cohort_value = sum(pvs)\n",
    "\n",
    "print('Total Cohort Value: ', int(cohort_value))\n",
    "\n",
    "print('CLTV: ', int(cohort_value/cohort_size))\n",
    "\n",
    "print('CLTV-CAC Spread: ', int(cohort_value/cohort_size - CAC))"
   ]
  },
  {
   "cell_type": "code",
   "execution_count": 28,
   "metadata": {},
   "outputs": [],
   "source": [
    "# Here, based on our outputs from this run, we can see that the average \n",
    "# lifetime value was around $160, giving us a profit of ~$126 per customer\n",
    "# based on the marketing campaign parameters we set"
   ]
  },
  {
   "cell_type": "code",
   "execution_count": 33,
   "metadata": {},
   "outputs": [],
   "source": [
    "# Next, we'll simulate this scenario and take a \n",
    "# look at the distributions\n",
    "cohort_size_list = []\n",
    "CAC_list = []\n",
    "CLTV_list = []\n",
    "\n",
    "# Simulate 1k times\n",
    "for i in range(1000):\n",
    "    # Run marketing campaign sim\n",
    "    conversion_rate = get_conversion_rate(conversion_rate_expected, \n",
    "                                      conversion_rate_stdev)\n",
    "    cohort_size = run_campaign(spend, cpm, conversion_rate)\n",
    "    CAC = spend/cohort_size\n",
    "    \n",
    "# Simulate the resulting cohort\n",
    "    customers_left, spending, profit =\\\n",
    "        simulate_cohort(cohort_size, churn_rate, transactions, \n",
    "                        price, retention_cost, yrs=5)\n",
    "    \n",
    "    cohort_value = sum(present_value(profit, rate))\n",
    "    \n",
    "    cohort_size_list.append(cohort_size)\n",
    "    CAC_list.append(CAC)\n",
    "    CLTV_list.append(cohort_value/cohort_size)"
   ]
  },
  {
   "cell_type": "code",
   "execution_count": 34,
   "metadata": {},
   "outputs": [
    {
     "name": "stderr",
     "output_type": "stream",
     "text": [
      "C:\\Users\\jider\\ANACONDA\\lib\\site-packages\\seaborn\\distributions.py:2551: FutureWarning: `distplot` is a deprecated function and will be removed in a future version. Please adapt your code to use either `displot` (a figure-level function with similar flexibility) or `histplot` (an axes-level function for histograms).\n",
      "  warnings.warn(msg, FutureWarning)\n"
     ]
    },
    {
     "data": {
      "image/png": "[encoded data removed]",
      "text/plain": [
       "<Figure size 648x432 with 1 Axes>"
      ]
     },
     "metadata": {
      "needs_background": "light"
     },
     "output_type": "display_data"
    }
   ],
   "source": [
    "# Store simulation results in a dataframe\n",
    "results_df = pd.DataFrame()\n",
    "results_df['CLTV'] = CLTV_list\n",
    "results_df['CAC'] = CAC_list\n",
    "results_df['Spread'] = results_df['CLTV'] - results_df['CAC']\n",
    "\n",
    "plot_df = results_df[results_df['CAC']<=1000]\n",
    "\n",
    "# Histogram for distribution of customer acquisition cost\n",
    "fig, ax = plt.subplots(figsize=(9,6))\n",
    "sns.distplot(plot_df['CAC'], kde=False, bins=60)\n",
    "\n",
    "ax.set_xlabel(\"Customer Acquisition Cost\",fontsize=16)\n",
    "ax.set_ylabel(\"Frequency\",fontsize=16)\n",
    "plt.tight_layout()\n",
    "\n",
    "plt.savefig(fname='CAC_hist', dpi=150)\n",
    "plt.show()"
   ]
  },
  {
   "cell_type": "code",
   "execution_count": 35,
   "metadata": {},
   "outputs": [
    {
     "data": {
      "image/png": "[encoded data removed]",
      "text/plain": [
       "<Figure size 648x432 with 1 Axes>"
      ]
     },
     "metadata": {
      "needs_background": "light"
     },
     "output_type": "display_data"
    }
   ],
   "source": [
    "# Histogram for distribution of customer lifetime value\n",
    "fig, ax = plt.subplots(figsize=(9,6))\n",
    "sns.distplot(plot_df['CLTV'], kde=False, bins=30)\n",
    "\n",
    "ax.set_xlabel(\"Customer Lifetime Value\",fontsize=16)\n",
    "ax.set_ylabel(\"Frequency\",fontsize=16)\n",
    "plt.tight_layout()\n",
    "\n",
    "plt.savefig(fname='CLTV_hist', dpi=150)\n",
    "plt.show()"
   ]
  },
  {
   "cell_type": "code",
   "execution_count": 36,
   "metadata": {},
   "outputs": [
    {
     "data": {
      "image/png": "[encoded data removed]",
      "text/plain": [
       "<Figure size 648x432 with 1 Axes>"
      ]
     },
     "metadata": {
      "needs_background": "light"
     },
     "output_type": "display_data"
    }
   ],
   "source": [
    "# Histogram for distribution of CLTV-CAC Spread\n",
    "fig, ax = plt.subplots(figsize=(9,6))\n",
    "sns.distplot(plot_df['Spread'], kde=False, bins=150)\n",
    "plt.axvline(x=0, color='red')\n",
    "plt.xlim(-50, 350)\n",
    "\n",
    "ax.set_xlabel(\"CLTV - CAC Spread\",fontsize=16)\n",
    "ax.set_ylabel(\"Frequency\",fontsize=16)\n",
    "plt.tight_layout()\n",
    "\n",
    "plt.savefig(fname='spread_hist', dpi=150)\n",
    "plt.show()"
   ]
  },
  {
   "cell_type": "code",
   "execution_count": null,
   "metadata": {},
   "outputs": [],
   "source": [
    "# Here we can see, based on the parameters set, that we have a very healthy profit margin when looking at the lifetime value of the customers less the acquisition costs across a large portion of the distribution. \n",
    "# Given this information it would be in the company's best interest to proceed with the marketing campaign. \n",
    "# Additionally, it would be good for you to help pressure test the sensitivity of these input variables against the project profit to see where things break down and communicate those risks to the business."
   ]
  }
 ],
 "metadata": {
  "kernelspec": {
   "display_name": "Python 3",
   "language": "python",
   "name": "python3"
  },
  "language_info": {
   "codemirror_mode": {
    "name": "ipython",
    "version": 3
   },
   "file_extension": ".py",
   "mimetype": "text/x-python",
   "name": "python",
   "nbconvert_exporter": "python",
   "pygments_lexer": "ipython3",
   "version": "3.8.5"
  }
 },
 "nbformat": 4,
 "nbformat_minor": 4
}
